{
 "cells": [
  {
   "cell_type": "code",
   "execution_count": null,
   "metadata": {},
   "outputs": [],
   "source": [
    "import pandas as pd\n",
    "import numpy as np\n",
    "from sklearn.preprocessing import OneHotEncoder, OrdinalEncoder, StandardScaler, label_binarize\n",
    "from sklearn.impute import SimpleImputer\n",
    "from sklearn.pipeline import Pipeline\n",
    "from sklearn.compose import ColumnTransformer\n",
    "from sklearn.model_selection import train_test_split, GridSearchCV, StratifiedKFold\n",
    "from sklearn.tree import DecisionTreeClassifier\n",
    "from sklearn.metrics import confusion_matrix\n",
    "\n",
    "# random seed for reproducibility\n",
    "seed = 123456789\n",
    "np.random.seed(seed)\n",
    "\n",
    "raw_data = pd.read_csv(\"International students Time management data.csv\")\n",
    "\n",
    "#Question 6: You often feel that your life is aimless, with no definite purpose\n",
    "target_column = '6'\n",
    "raw_data = raw_data[raw_data[target_column] != 'Neither']\n",
    "raw_data = raw_data[raw_data[target_column].notna()]\n",
    "raw_data[target_column] = raw_data[target_column].replace('Strong Agree', 'Agree')\n",
    "raw_data[target_column] = raw_data[target_column].replace('Strong Disagree', 'Disagree')"
   ]
  },
  {
   "cell_type": "code",
   "execution_count": null,
   "metadata": {},
   "outputs": [],
   "source": []
  },
  {
   "cell_type": "code",
   "execution_count": null,
   "metadata": {},
   "outputs": [],
   "source": [
    "impute_and_one_hot = Pipeline([\n",
    "    ('impute', SimpleImputer(strategy= 'most_frequent')),\n",
    "    ('encode', OneHotEncoder(handle_unknown='ignore'))\n",
    "])\n",
    "\n",
    "answers = ['Strong Disagree', 'Disagree', 'Neither', 'Agree', 'Strong Agree']\n",
    "percentages = ['<40%', '40%~49%', '50%~59%', '60%~70%','>70%']\n",
    "\n",
    "impute_and_ordinal = Pipeline([\n",
    "    ('impute', SimpleImputer(strategy='most_frequent')),\n",
    "    ('ordinal', OrdinalEncoder(categories=[percentages,\n",
    "                                           ['S4', 'S3', 'S2', 'S1', 'S0'], \n",
    "                                           percentages,\n",
    "                                           ['<18', '18-20', '21-25', '26-30', '31-35', '>36'],\n",
    "                                           answers, answers, answers, answers])),\n",
    "    ('scaler', StandardScaler())\n",
    "])\n",
    "\n",
    "feature_encoding = ColumnTransformer([\n",
    "    (\"impute_and_one_hot\", impute_and_one_hot, ['Course']),\n",
    "    (\"impute_and_ordinal\", impute_and_ordinal, ['Academic', 'Attendance', 'English', 'Age',  \n",
    "                                                '8', '12', '14', '15'])\n",
    "])\n",
    "\n",
    "pipeline = Pipeline([\n",
    "    ('features', feature_encoding),\n",
    "    ('tree', DecisionTreeClassifier())\n",
    "])"
   ]
  },
  {
   "cell_type": "code",
   "execution_count": null,
   "metadata": {},
   "outputs": [],
   "source": [
    "hyperparam_grid = {\n",
    "    \"tree__splitter\":[\"best\",\"random\"],\n",
    "    \"tree__max_depth\" : list(range(1, 50)),\n",
    "    \"tree__min_samples_leaf\":[1, 3, 5, 7, 9, 11, 13, 15],\n",
    "    \"tree__max_features\":[\"auto\",\"log2\",\"sqrt\", None],\n",
    "    \"tree__max_leaf_nodes\":list(range(2, 50))\n",
    "}\n",
    "\n",
    "grid_search = GridSearchCV(pipeline, param_grid=hyperparam_grid, cv=3, n_jobs = -1, verbose = 1)"
   ]
  },
  {
   "cell_type": "code",
   "execution_count": null,
   "metadata": {},
   "outputs": [],
   "source": [
    "X_train, X_test, y_train_raw, y_test_raw = \\\n",
    "  train_test_split(raw_data, raw_data[target_column], test_size=.3, random_state=seed)\n",
    "\n",
    "y_train = np.squeeze(label_binarize(y_train_raw, classes=['Agree', 'Disagree']))\n",
    "y_test = np.squeeze(label_binarize(y_test_raw, classes=['Agree', 'Disagree']))\n",
    "\n",
    "model = grid_search.fit(X_train, y_train)\n",
    "\n",
    "print(model.best_params_)"
   ]
  },
  {
   "cell_type": "code",
   "execution_count": null,
   "metadata": {},
   "outputs": [],
   "source": []
  },
  {
   "cell_type": "code",
   "execution_count": null,
   "metadata": {},
   "outputs": [],
   "source": []
  },
  {
   "cell_type": "code",
   "execution_count": null,
   "metadata": {},
   "outputs": [],
   "source": [
    "model.score(X_train, y_train)"
   ]
  },
  {
   "cell_type": "code",
   "execution_count": null,
   "metadata": {},
   "outputs": [],
   "source": []
  },
  {
   "cell_type": "code",
   "execution_count": null,
   "metadata": {},
   "outputs": [],
   "source": [
    "model.score(X_test, y_test)"
   ]
  },
  {
   "cell_type": "code",
   "execution_count": null,
   "metadata": {},
   "outputs": [],
   "source": [
    "confusion_matrix(y_test, model.predict(X_test))"
   ]
  },
  {
   "cell_type": "code",
   "execution_count": null,
   "metadata": {},
   "outputs": [],
   "source": []
  }
 ],
 "metadata": {
  "kernelspec": {
   "display_name": "Python 3",
   "language": "python",
   "name": "python3"
  },
  "language_info": {
   "codemirror_mode": {
    "name": "ipython",
    "version": 3
   },
   "file_extension": ".py",
   "mimetype": "text/x-python",
   "name": "python",
   "nbconvert_exporter": "python",
   "pygments_lexer": "ipython3",
   "version": "3.8.5"
  }
 },
 "nbformat": 4,
 "nbformat_minor": 5
}
