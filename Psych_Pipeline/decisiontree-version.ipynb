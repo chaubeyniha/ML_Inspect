{
 "cells": [
  {
   "cell_type": "code",
   "execution_count": 32,
   "id": "27d4dcc5",
   "metadata": {},
   "outputs": [],
   "source": [
    "import pandas as pd\n",
    "import numpy as np\n",
    "from sklearn.preprocessing import OneHotEncoder, OrdinalEncoder, StandardScaler, label_binarize\n",
    "from sklearn.impute import SimpleImputer\n",
    "from sklearn.pipeline import Pipeline\n",
    "from sklearn.compose import ColumnTransformer\n",
    "from sklearn.model_selection import train_test_split, GridSearchCV, StratifiedKFold\n",
    "from sklearn.tree import DecisionTreeClassifier\n",
    "from sklearn.metrics import confusion_matrix\n",
    "\n",
    "# random seed for reproducibility\n",
    "seed = 123456789\n",
    "np.random.seed(seed)\n",
    "\n",
    "raw_data = pd.read_csv(\"International students Time management data.csv\")\n",
    "\n",
    "#Question 6: You often feel that your life is aimless, with no definite purpose\n",
    "target_column = '8'\n",
    "raw_data = raw_data[raw_data[target_column] != 'Neither']\n",
    "raw_data = raw_data[raw_data[target_column].notna()]\n",
    "raw_data[target_column] = raw_data[target_column].replace('Strong Agree', 'Agree')\n",
    "raw_data[target_column] = raw_data[target_column].replace('Strong Disagree', 'Disagree')"
   ]
  },
  {
   "cell_type": "code",
   "execution_count": 33,
   "id": "0c23758f",
   "metadata": {},
   "outputs": [],
   "source": [
    "impute_and_one_hot = Pipeline([\n",
    "    ('impute', SimpleImputer(strategy= 'most_frequent')),\n",
    "    ('encode', OneHotEncoder(handle_unknown='ignore'))\n",
    "])\n",
    "\n",
    "answers = ['Strong Disagree', 'Disagree', 'Neither', 'Agree', 'Strong Agree']\n",
    "percentages = ['<40%', '40%~49%', '50%~59%', '60%~70%','>70%']\n",
    "\n",
    "impute_and_ordinal = Pipeline([\n",
    "    ('impute', SimpleImputer(strategy='most_frequent')),\n",
    "    ('ordinal', OrdinalEncoder(categories=[percentages,\n",
    "                                           ['S4', 'S3', 'S2', 'S1', 'S0'], \n",
    "                                           percentages,\n",
    "                                           ['<18', '18-20', '21-25', '26-30', '31-35', '>36'],\n",
    "                                           answers, answers, answers, answers])),\n",
    "    ('scaler', StandardScaler())\n",
    "])\n",
    "\n",
    "feature_encoding = ColumnTransformer([\n",
    "    (\"impute_and_one_hot\", impute_and_one_hot, ['Course']),\n",
    "    (\"impute_and_ordinal\", impute_and_ordinal,['Academic', 'Attendance', 'English', 'Age',  \n",
    "                                                '6', '12', '14', '15'])\n",
    "])\n",
    "\n",
    "pipeline = Pipeline([\n",
    "    ('features', feature_encoding),\n",
    "    ('tree', DecisionTreeClassifier(random_state = 1))\n",
    "])"
   ]
  },
  {
   "cell_type": "code",
   "execution_count": 91,
   "id": "985cd840",
   "metadata": {},
   "outputs": [],
   "source": [
    "hyperparam_grid = {\n",
    "    \"tree__splitter\":[\"best\",\"random\"],\n",
    "    \"tree__max_depth\" :[1, 2, 3, 4, 5],\n",
    "    \"tree__min_samples_leaf\":[6, 8, 10],\n",
    "    \"tree__max_features\":[\"auto\",\"log2\",\"sqrt\", None],\n",
    "    \"tree__max_leaf_nodes\":[2, 4, 6, 8, 10],\n",
    "#    \"tree__criterion\": [\"gini\", \"entropy\"]\n",
    "}\n",
    "\n",
    "grid_search = GridSearchCV(pipeline, param_grid=hyperparam_grid, cv=3, n_jobs=-1, verbose=1, return_train_score=True)"
   ]
  },
  {
   "cell_type": "code",
   "execution_count": 92,
   "id": "90b3fb7c",
   "metadata": {},
   "outputs": [
    {
     "name": "stdout",
     "output_type": "stream",
     "text": [
      "Fitting 3 folds for each of 600 candidates, totalling 1800 fits\n"
     ]
    },
    {
     "name": "stderr",
     "output_type": "stream",
     "text": [
      "[Parallel(n_jobs=-1)]: Using backend LokyBackend with 8 concurrent workers.\n",
      "[Parallel(n_jobs=-1)]: Done  56 tasks      | elapsed:    0.8s\n",
      "[Parallel(n_jobs=-1)]: Done 656 tasks      | elapsed:    5.6s\n",
      "[Parallel(n_jobs=-1)]: Done 1656 tasks      | elapsed:   13.8s\n"
     ]
    },
    {
     "name": "stdout",
     "output_type": "stream",
     "text": [
      "{'tree__max_depth': 1, 'tree__max_features': 'auto', 'tree__max_leaf_nodes': 2, 'tree__min_samples_leaf': 6, 'tree__splitter': 'best'}\n"
     ]
    },
    {
     "name": "stderr",
     "output_type": "stream",
     "text": [
      "[Parallel(n_jobs=-1)]: Done 1800 out of 1800 | elapsed:   14.8s finished\n"
     ]
    }
   ],
   "source": [
    "X_train, X_test, y_train_raw, y_test_raw = \\\n",
    "  train_test_split(raw_data, raw_data[target_column], test_size=.3, random_state=seed)\n",
    "\n",
    "y_train = np.squeeze(label_binarize(y_train_raw, classes=['Agree', 'Disagree']))\n",
    "y_test = np.squeeze(label_binarize(y_test_raw, classes=['Agree', 'Disagree']))\n",
    "\n",
    "model = grid_search.fit(X_train, y_train)\n",
    "\n",
    "print(model.best_params_)"
   ]
  },
  {
   "cell_type": "code",
   "execution_count": 112,
   "id": "87dc2396",
   "metadata": {},
   "outputs": [
    {
     "data": {
      "text/plain": [
       "(60, 21)"
      ]
     },
     "execution_count": 112,
     "metadata": {},
     "output_type": "execute_result"
    }
   ],
   "source": [
    "X_train.shape"
   ]
  },
  {
   "cell_type": "code",
   "execution_count": 93,
   "id": "44c5109a",
   "metadata": {},
   "outputs": [
    {
     "data": {
      "text/plain": [
       "0.8333333333333334"
      ]
     },
     "execution_count": 93,
     "metadata": {},
     "output_type": "execute_result"
    }
   ],
   "source": [
    "model.score(X_train, y_train)"
   ]
  },
  {
   "cell_type": "code",
   "execution_count": 94,
   "id": "5e04dabc",
   "metadata": {},
   "outputs": [
    {
     "data": {
      "text/plain": [
       "0.7692307692307693"
      ]
     },
     "execution_count": 94,
     "metadata": {},
     "output_type": "execute_result"
    }
   ],
   "source": [
    "model.score(X_test, y_test)"
   ]
  },
  {
   "cell_type": "code",
   "execution_count": 80,
   "id": "48cea913",
   "metadata": {},
   "outputs": [
    {
     "data": {
      "text/plain": [
       "array([[20,  0],\n",
       "       [ 6,  0]], dtype=int64)"
      ]
     },
     "execution_count": 80,
     "metadata": {},
     "output_type": "execute_result"
    }
   ],
   "source": [
    "confusion_matrix(y_test, model.predict(X_test))"
   ]
  },
  {
   "cell_type": "code",
   "execution_count": 56,
   "id": "1477f4c3",
   "metadata": {},
   "outputs": [
    {
     "data": {
      "image/png": "[encoded data removed]",
      "text/plain": [
       "<Figure size 432x288 with 1 Axes>"
      ]
     },
     "metadata": {
      "needs_background": "light"
     },
     "output_type": "display_data"
    }
   ],
   "source": [
    "import matplotlib.pyplot as plt\n",
    "\n",
    "test_scores = model.cv_results_['mean_test_score']\n",
    "train_scores = model.cv_results_['mean_train_score'] \n",
    "\n",
    "plt.plot(test_scores, label='test')\n",
    "plt.plot(train_scores, label='train')\n",
    "plt.legend(loc='best')\n",
    "plt.show()"
   ]
  },
  {
   "cell_type": "code",
   "execution_count": 101,
   "id": "3d99b0f7",
   "metadata": {},
   "outputs": [],
   "source": [
    "import numpy as np\n",
    "import matplotlib.pyplot as plt\n",
    "from sklearn.naive_bayes import GaussianNB\n",
    "from sklearn.svm import SVC\n",
    "from sklearn.datasets import load_digits\n",
    "from sklearn.model_selection import learning_curve\n",
    "from sklearn.model_selection import ShuffleSplit"
   ]
  },
  {
   "cell_type": "code",
   "execution_count": 45,
   "id": "2c7916d5",
   "metadata": {},
   "outputs": [],
   "source": [
    "def plot_learning_curve(estimator, title, X, y, axes=None, ylim=None, cv=None,\n",
    "                        n_jobs=None, train_sizes=np.linspace(.1, 1.0, 5)):\n",
    "    if axes is None:\n",
    "        _, axes = plt.subplots(1, 3, figsize=(20, 5))\n",
    "\n",
    "    axes[0].set_title(title)\n",
    "    if ylim is not None:\n",
    "        axes[0].set_ylim(*ylim)\n",
    "    axes[0].set_xlabel(\"Training examples\")\n",
    "    axes[0].set_ylabel(\"Score\")\n",
    "\n",
    "    train_sizes, train_scores, test_scores, fit_times, _ = \\\n",
    "        learning_curve(estimator, X, y, cv=cv, n_jobs=n_jobs,\n",
    "                       train_sizes=train_sizes,\n",
    "                       return_times=True)\n",
    "    train_scores_mean = np.mean(train_scores, axis=1)\n",
    "    train_scores_std = np.std(train_scores, axis=1)\n",
    "    test_scores_mean = np.mean(test_scores, axis=1)\n",
    "    test_scores_std = np.std(test_scores, axis=1)\n",
    "    fit_times_mean = np.mean(fit_times, axis=1)\n",
    "    fit_times_std = np.std(fit_times, axis=1)\n",
    "\n",
    "    # Plot learning curve\n",
    "    axes[0].grid()\n",
    "    axes[0].fill_between(train_sizes, train_scores_mean - train_scores_std,\n",
    "                         train_scores_mean + train_scores_std, alpha=0.1,\n",
    "                         color=\"r\")\n",
    "    axes[0].fill_between(train_sizes, test_scores_mean - test_scores_std,\n",
    "                         test_scores_mean + test_scores_std, alpha=0.1,\n",
    "                         color=\"g\")\n",
    "    axes[0].plot(train_sizes, train_scores_mean, 'o-', color=\"r\",\n",
    "                 label=\"Training score\")\n",
    "    axes[0].plot(train_sizes, test_scores_mean, 'o-', color=\"g\",\n",
    "                 label=\"Cross-validation score\")\n",
    "    axes[0].legend(loc=\"best\")\n",
    "\n",
    "    # Plot n_samples vs fit_times\n",
    "    axes[1].grid()\n",
    "    axes[1].plot(train_sizes, fit_times_mean, 'o-')\n",
    "    axes[1].fill_between(train_sizes, fit_times_mean - fit_times_std,\n",
    "                         fit_times_mean + fit_times_std, alpha=0.1)\n",
    "    axes[1].set_xlabel(\"Training examples\")\n",
    "    axes[1].set_ylabel(\"fit_times\")\n",
    "    axes[1].set_title(\"Scalability of the model\")\n",
    "\n",
    "    # Plot fit_time vs score\n",
    "    axes[2].grid()\n",
    "    axes[2].plot(fit_times_mean, test_scores_mean, 'o-')\n",
    "    axes[2].fill_between(fit_times_mean, test_scores_mean - test_scores_std,\n",
    "                         test_scores_mean + test_scores_std, alpha=0.1)\n",
    "    axes[2].set_xlabel(\"fit_times\")\n",
    "    axes[2].set_ylabel(\"Score\")\n",
    "    axes[2].set_title(\"Performance of the model\")\n",
    "\n",
    "    return plt"
   ]
  },
  {
   "cell_type": "code",
   "execution_count": 46,
   "id": "485e721d",
   "metadata": {},
   "outputs": [
    {
     "data": {
      "image/png": "[encoded data removed]",
      "text/plain": [
       "<Figure size 1440x360 with 3 Axes>"
      ]
     },
     "metadata": {
      "needs_background": "light"
     },
     "output_type": "display_data"
    }
   ],
   "source": [
    "X, y = X_train, y_train\n",
    "title = \"Learning Curves (Train)\"\n",
    "\n",
    "# Cross validation with 100 iterations to get smoother mean test and train\n",
    "# score curves, each time with 20% data randomly selected as a validation set.\n",
    "# cv = ShuffleSplit(n_splits=100, test_size=0.2, random_state=0)\n",
    "\n",
    "estimator = model.best_estimator_\n",
    "# estimator = DecisionTreeClassifier()\n",
    "# plot_learning_curve(estimator, title, X, y, ylim=(0.7, 1.01),\n",
    "#                     cv=3, n_jobs= -1)\n",
    "\n",
    "plot_learning_curve(estimator, title, X, y,\n",
    "                    cv=3, n_jobs=-1)\n",
    "\n",
    "\n",
    "plt.show()"
   ]
  },
  {
   "cell_type": "code",
   "execution_count": 110,
   "id": "d1c2d55e",
   "metadata": {},
   "outputs": [
    {
     "name": "stderr",
     "output_type": "stream",
     "text": [
      "c:\\users\\nchau\\appdata\\local\\programs\\python\\python38-32\\lib\\site-packages\\sklearn\\model_selection\\_validation.py:1323: RuntimeWarning: Removed duplicate entries from 'train_sizes'. Number of ticks will be less than the size of 'train_sizes' 40 instead of 50).\n",
      "  warnings.warn(\"Removed duplicate entries from 'train_sizes'. Number \"\n",
      "[Parallel(n_jobs=-1)]: Using backend LokyBackend with 8 concurrent workers.\n"
     ]
    },
    {
     "name": "stdout",
     "output_type": "stream",
     "text": [
      "[learning_curve] Training set sizes: [ 1  2  3  4  5  6  7  8  9 10 11 12 13 14 15 16 17 18 19 20 21 22 23 24\n",
      " 25 26 27 28 29 30 31 32 33 34 35 36 37 38 39 40]\n"
     ]
    },
    {
     "name": "stderr",
     "output_type": "stream",
     "text": [
      "[Parallel(n_jobs=-1)]: Done 120 out of 120 | elapsed:    0.3s finished\n"
     ]
    },
    {
     "data": {
      "text/plain": [
       "(array([ 1,  2,  3,  4,  5,  6,  7,  8,  9, 10, 11, 12, 13, 14, 15, 16, 17,\n",
       "        18, 19, 20, 21, 22, 23, 24, 25, 26, 27, 28, 29, 30, 31, 32, 33, 34,\n",
       "        35, 36, 37, 38, 39, 40]),\n",
       " array([[nan, nan, nan],\n",
       "        [nan, nan, nan],\n",
       "        [nan, nan, nan],\n",
       "        [nan, nan, nan],\n",
       "        [nan, nan, nan],\n",
       "        [nan, nan, nan],\n",
       "        [nan, nan, nan],\n",
       "        [nan, nan, nan],\n",
       "        [nan, nan, nan],\n",
       "        [nan, nan, nan],\n",
       "        [nan, nan, nan],\n",
       "        [nan, nan, nan],\n",
       "        [nan, nan, nan],\n",
       "        [nan, nan, nan],\n",
       "        [nan, nan, nan],\n",
       "        [nan, nan, nan],\n",
       "        [nan, nan, nan],\n",
       "        [nan, nan, nan],\n",
       "        [nan, nan, nan],\n",
       "        [nan, nan, nan],\n",
       "        [nan, nan, nan],\n",
       "        [nan, nan, nan],\n",
       "        [nan, nan, nan],\n",
       "        [nan, nan, nan],\n",
       "        [nan, nan, nan],\n",
       "        [nan, nan, nan],\n",
       "        [nan, nan, nan],\n",
       "        [nan, nan, nan],\n",
       "        [nan, nan, nan],\n",
       "        [nan, nan, nan],\n",
       "        [nan, nan, nan],\n",
       "        [nan, nan, nan],\n",
       "        [nan, nan, nan],\n",
       "        [nan, nan, nan],\n",
       "        [nan, nan, nan],\n",
       "        [nan, nan, nan],\n",
       "        [nan, nan, nan],\n",
       "        [nan, nan, nan],\n",
       "        [nan, nan, nan],\n",
       "        [nan, nan, nan]]),\n",
       " array([[nan, nan, nan],\n",
       "        [nan, nan, nan],\n",
       "        [nan, nan, nan],\n",
       "        [nan, nan, nan],\n",
       "        [nan, nan, nan],\n",
       "        [nan, nan, nan],\n",
       "        [nan, nan, nan],\n",
       "        [nan, nan, nan],\n",
       "        [nan, nan, nan],\n",
       "        [nan, nan, nan],\n",
       "        [nan, nan, nan],\n",
       "        [nan, nan, nan],\n",
       "        [nan, nan, nan],\n",
       "        [nan, nan, nan],\n",
       "        [nan, nan, nan],\n",
       "        [nan, nan, nan],\n",
       "        [nan, nan, nan],\n",
       "        [nan, nan, nan],\n",
       "        [nan, nan, nan],\n",
       "        [nan, nan, nan],\n",
       "        [nan, nan, nan],\n",
       "        [nan, nan, nan],\n",
       "        [nan, nan, nan],\n",
       "        [nan, nan, nan],\n",
       "        [nan, nan, nan],\n",
       "        [nan, nan, nan],\n",
       "        [nan, nan, nan],\n",
       "        [nan, nan, nan],\n",
       "        [nan, nan, nan],\n",
       "        [nan, nan, nan],\n",
       "        [nan, nan, nan],\n",
       "        [nan, nan, nan],\n",
       "        [nan, nan, nan],\n",
       "        [nan, nan, nan],\n",
       "        [nan, nan, nan],\n",
       "        [nan, nan, nan],\n",
       "        [nan, nan, nan],\n",
       "        [nan, nan, nan],\n",
       "        [nan, nan, nan],\n",
       "        [nan, nan, nan]]))"
      ]
     },
     "execution_count": 110,
     "metadata": {},
     "output_type": "execute_result"
    }
   ],
   "source": [
    "learning_curve(DecisionTreeClassifier(), X_train, y_train, cv = 3, scoring = 'accuracy', n_jobs = -1, train_sizes = np.linspace(0.01, 1, 50), verbose = 1)"
   ]
  },
  {
   "cell_type": "code",
   "execution_count": 41,
   "id": "3414845a",
   "metadata": {},
   "outputs": [
    {
     "name": "stdout",
     "output_type": "stream",
     "text": [
      "Training scores:\n",
      "\n",
      " [[1.         1.         1.        ]\n",
      " [1.         1.         1.        ]\n",
      " [1.         1.         1.        ]\n",
      " [1.         1.         0.97058824]\n",
      " [1.         0.95454545 1.        ]]\n",
      "\n",
      " ----------------------------------------------------------------------\n",
      "\n",
      "Validation scores:\n",
      "\n",
      " [[0.39130435 0.54545455 0.54545455]\n",
      " [0.60869565 0.68181818 0.68181818]\n",
      " [0.69565217 0.63636364 0.45454545]\n",
      " [0.52173913 0.63636364 0.77272727]\n",
      " [0.73913043 0.59090909 0.63636364]]\n"
     ]
    }
   ],
   "source": [
    "from sklearn.model_selection import learning_curve\n",
    "# from sklearn.metrics import make_scorer, roc_curve\n",
    "\n",
    "# train_sizes = [1, 5, 10, 15, 20, 25, 30, 35]\n",
    "\n",
    "train_sizes, train_scores, validation_scores = learning_curve(\n",
    "    estimator=model.best_estimator_,\n",
    "    X=X_train, y=y_train, cv=3,\n",
    "#     scoring=make_scorer(roc_curve),\n",
    ")\n",
    "\n",
    "print('Training scores:\\n\\n', train_scores)\n",
    "print('\\n', '-' * 70) # separator to make the output easy to read\n",
    "print('\\nValidation scores:\\n\\n', validation_scores)"
   ]
  },
  {
   "cell_type": "code",
   "execution_count": 43,
   "id": "211e317d",
   "metadata": {},
   "outputs": [],
   "source": [
    "train_scores_mean = np.mean(train_scores, axis=1)\n",
    "train_scores_std = np.std(train_scores, axis=1)\n",
    "valid_scores_mean = np.mean(validation_scores, axis=1)\n",
    "valid_scores_std = np.std(validation_scores, axis=1)"
   ]
  },
  {
   "cell_type": "code",
   "execution_count": null,
   "id": "1d7bfb8c",
   "metadata": {},
   "outputs": [],
   "source": []
  }
 ],
 "metadata": {
  "kernelspec": {
   "display_name": "Python 3 (ipykernel)",
   "language": "python",
   "name": "python3"
  },
  "language_info": {
   "codemirror_mode": {
    "name": "ipython",
    "version": 3
   },
   "file_extension": ".py",
   "mimetype": "text/x-python",
   "name": "python",
   "nbconvert_exporter": "python",
   "pygments_lexer": "ipython3",
   "version": "3.8.5"
  }
 },
 "nbformat": 4,
 "nbformat_minor": 5
}
