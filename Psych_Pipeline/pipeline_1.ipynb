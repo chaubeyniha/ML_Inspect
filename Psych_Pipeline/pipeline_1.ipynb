{
 "cells": [
  {
   "cell_type": "code",
   "execution_count": 11,
   "metadata": {
    "scrolled": false
   },
   "outputs": [],
   "source": [
    "import pandas as pd\n",
    "import numpy as np\n",
    "from sklearn.preprocessing import OneHotEncoder, OrdinalEncoder, LabelEncoder, StandardScaler\n",
    "from sklearn.impute import SimpleImputer\n",
    "from sklearn.pipeline import Pipeline\n",
    "from sklearn.compose import ColumnTransformer\n",
    "from sklearn.model_selection import train_test_split, GridSearchCV\n",
    "from sklearn.linear_model import SGDClassifier\n",
    "from sklearn.metrics import confusion_matrix\n",
    "\n",
    "# read the data\n",
    "raw_data = pd.read_csv(\"International students Time management data.csv\")\n",
    "\n",
    "# transform y - variable \n",
    "raw_data = raw_data.fillna(raw_data.mode().iloc[0])\n",
    "\n",
    "y_column = raw_data[['7','10', '11', '12', '14', '17']]\n",
    "y_column = y_column.replace('Strong Agree','Agree')\n",
    "y_column = y_column.replace('Strong Disagree','Disagree')\n",
    "raw_data['avg_response'] = y_column.mode(axis = 1)[0]\n",
    "\n",
    "raw_data = raw_data.loc[raw_data['avg_response'] != \"Neither\"]\n",
    "raw_data['label'] = (raw_data['avg_response'] == 'Agree') | (raw_data['avg_response'] == 'Strong Agree')\n"
   ]
  },
  {
   "cell_type": "code",
   "execution_count": 12,
   "metadata": {},
   "outputs": [
    {
     "name": "stdout",
     "output_type": "stream",
     "text": [
      "Train score: 0.6388888888888888\n",
      "Test score: 0.7083333333333334\n"
     ]
    }
   ],
   "source": [
    "# Building blocks for pipeline\n",
    "impute_and_one_hot = Pipeline([\n",
    "    ('impute', SimpleImputer(strategy= 'most_frequent')),\n",
    "    ('encode', OneHotEncoder(sparse=False, handle_unknown='ignore'))\n",
    "])\n",
    "\n",
    "impute_and_ordinal = Pipeline([\n",
    "    ('impute', SimpleImputer(strategy= 'most_frequent')),\n",
    "    ('ordinal', OrdinalEncoder(categories=[['<40%', '40%~49%', '50%~59%', '60%~70%','>70%'],\n",
    "                                           ['S4', 'S3', 'S2', 'S1', 'S0'], \n",
    "                                           ['<40%', '40%~49%', '50%~59%', '60%~70%','>70%'],\n",
    "                                           ['<18', '18-20', '21-25', '26-30', '31-35', '>36']])),\n",
    "    ('scalar', StandardScaler())\n",
    "])\n",
    "\n",
    "categorical_prepr = ColumnTransformer([\n",
    "    (\"impute_and_one_hot\", impute_and_one_hot, ['Course']),\n",
    "    (\"impute_and_ordinal\", impute_and_ordinal, ['Academic', 'Attendance', 'English', 'Age'])\n",
    "])\n",
    "\n",
    "# gridsearch params\n",
    "params = {\n",
    "    \"sgdclassifier__loss\" : [\"hinge\", \"log\", \"squared_hinge\", \"modified_huber\"],\n",
    "    \"sgdclassifier__alpha\" : [0.01, 0.03, 0.1, 0.3],\n",
    "    \"sgdclassifier__penalty\" : [\"l2\", \"l1\", \"none\", \"elasticnet\"],\n",
    "    \"sgdclassifier__learning_rate\": [\"constant\", \"optimal\", \"invscaling\", \"adaptive\"],\n",
    "    \"sgdclassifier__eta0\": [0.01, 0.03, 0.1, 0.3]\n",
    "}\n",
    "\n",
    "# create pipeline model\n",
    "pipe = Pipeline([\n",
    "    ('features', categorical_prepr),\n",
    "    ('sgdclassifier', SGDClassifier(random_state = 1))\n",
    "])\n",
    "\n",
    "grid = GridSearchCV(pipe, n_jobs=-1, param_grid = params)\n",
    "\n",
    "X_train, X_test, Y_train, Y_test = train_test_split(raw_data, raw_data['label'], random_state = 1)\n",
    "X_train.to_csv(\"X_train.csv\")\n",
    "Y_train.to_csv(\"Y_train.csv\")\n",
    "\n",
    "# fit the pipeline to the training data\n",
    "grid.fit(X_train, Y_train)\n",
    "\n",
    "# predict target values on training data\n",
    "pred_train = grid.predict(X_train)\n",
    "\n",
    "# validate with X\n",
    "pred_test = grid.predict(X_test)\n",
    "score = grid.score(X_test, Y_test)\n",
    "print(\"Train score:\", grid.score(X_train, Y_train))\n",
    "print(\"Test score:\", score)"
   ]
  },
  {
   "cell_type": "code",
   "execution_count": 13,
   "metadata": {},
   "outputs": [],
   "source": [
    "train_data = pd.concat([X_train.reset_index(), pd.Series(pred_train, name=\"pred\")], axis=1)\n",
    "\n",
    "train_data['TP'] = (train_data['label'] == True) & (train_data['pred'] == True)\n",
    "train_data['TN'] = (train_data['label'] == False) & (train_data['pred'] == False)\n",
    "train_data['FN'] = (train_data['label'] == True) & (train_data['pred'] == False)\n",
    "train_data['FP'] = (train_data['label'] == False) & (train_data['pred'] == True)"
   ]
  },
  {
   "cell_type": "code",
   "execution_count": 7,
   "metadata": {},
   "outputs": [
    {
     "name": "stdout",
     "output_type": "stream",
     "text": [
      "[[ 8 23]\n",
      " [ 3 38]]\n"
     ]
    }
   ],
   "source": [
    "actual = train_data['label']\n",
    "predicted = train_data['pred']\n",
    "\n",
    "conf_mat = confusion_matrix(actual, predicted) \n",
    "\n",
    "print(conf_mat)"
   ]
  },
  {
   "cell_type": "code",
   "execution_count": 33,
   "metadata": {},
   "outputs": [],
   "source": [
    "test_data = pd.concat([X_test.reset_index(), pd.Series(pred_test, name=\"pred\")], axis=1)\n",
    "\n",
    "test_data['TP'] = (test_data['label'] == True) & (test_data['pred'] == True)\n",
    "test_data['TN'] = (test_data['label'] == False) & (test_data['pred'] == False)\n",
    "test_data['FN'] = (test_data['label'] == True) & (test_data['pred'] == False)\n",
    "test_data['FP'] = (test_data['label'] == False) & (test_data['pred'] == True)\n"
   ]
  },
  {
   "cell_type": "code",
   "execution_count": 34,
   "metadata": {},
   "outputs": [
    {
     "name": "stdout",
     "output_type": "stream",
     "text": [
      "[[ 2  4]\n",
      " [ 5 13]]\n"
     ]
    }
   ],
   "source": [
    "actual = test_data['label']\n",
    "predicted = test_data['pred']\n",
    "\n",
    "conf_mat = confusion_matrix(actual, predicted) \n",
    "\n",
    "print(conf_mat)"
   ]
  },
  {
   "cell_type": "code",
   "execution_count": 36,
   "metadata": {},
   "outputs": [],
   "source": [
    "# False Negative: FN/FN+TP\n",
    "## The probability that a true positive will be missed by the test\n",
    "## FN is the number of false negatives \n",
    "## TP is the number of true positives (FN+TP being the total number of positives).\n",
    "\n",
    "# False Positive: FP/FP+TN\n",
    "## FP is the number of false positives\n",
    "## TN is the number of true negatives (FP+TN being the total number of negatives)\n",
    "## It's the probability that a positive result will be given when the true value is negative"
   ]
  },
  {
   "cell_type": "code",
   "execution_count": 37,
   "metadata": {},
   "outputs": [],
   "source": [
    "def FalseNeg(data):\n",
    "    FNR = data[\"FN\"].sum() / (data[\"FN\"].sum() + data[\"TP\"].sum())\n",
    "    return FNR\n",
    "\n",
    "def FalsePos(data):\n",
    "    FPR = data[\"FP\"].sum() / (data[\"FP\"].sum() + data[\"TN\"].sum())\n",
    "    return FPR"
   ]
  },
  {
   "cell_type": "code",
   "execution_count": 38,
   "metadata": {},
   "outputs": [
    {
     "name": "stdout",
     "output_type": "stream",
     "text": [
      "FNR China train:  0.06896551724137931\n",
      "FNR Others train:  0.25\n",
      "Student from China have a 5% higher chance to be falsely predicted to have bad time management\n",
      "\n",
      "\n",
      "FNR China test:  0.2\n",
      "FNR Others test:  0.375\n",
      "Student from other countries have 37.5% higher probability to be wrongly predicted to have bad time management.\n",
      "\n",
      "\n",
      "FPR China train:  0.7777777777777778\n",
      "FPR Others train:  0.46153846153846156\n",
      "Student from China have a 10% higher probability to be predicted to be good at time management when they are not.\n",
      "\n",
      "\n",
      "FPR China test:  1.0\n",
      "FPR Others test:  0.3333333333333333\n",
      "Student from other countries are 29.5% more likely to be predicted to be good at time management when they are not.\n"
     ]
    }
   ],
   "source": [
    "# SELECT ROWS IN TRAIN DATASET\n",
    "train_data_china = train_data.loc[train_data[\"Nationality\"] == \"China\"]\n",
    "train_data_others = train_data.loc[train_data[\"Nationality\"] != \"China\"]\n",
    "\n",
    "# CALCULATE FNR FOR TRAIN DATASET\n",
    "FNR_china_train = FalseNeg(train_data_china)\n",
    "FNR_others_train = FalseNeg(train_data_others)\n",
    "\n",
    "# CALCULATE FPR FOR TRAIN DATASET\n",
    "FPR_china_train = FalsePos(train_data_china)\n",
    "FPR_others_train = FalsePos(train_data_others)\n",
    "\n",
    "# SELECT ROWS IN TEST DATASET\n",
    "test_data_china = test_data.loc[test_data[\"Nationality\"] == \"China\"]\n",
    "test_data_others = test_data.loc[test_data[\"Nationality\"] != \"China\"]\n",
    "\n",
    "# CALCULATE FNR FOR TEST DATASET\n",
    "FNR_china_test =  FalseNeg(test_data_china)\n",
    "FNR_others_test =  FalseNeg(test_data_others)\n",
    "\n",
    "# CALCULATE FPR FOR TEST DATASER\n",
    "FPR_china_test = FalsePos(test_data_china)\n",
    "FPR_others_test = FalsePos(test_data_others)\n",
    "\n",
    "print(\"FNR China train: \", FNR_china_train)\n",
    "print(\"FNR Others train: \", FNR_others_train)\n",
    "print(\"Student from China have a 5% higher chance to be falsely predicted to have bad time management\")\n",
    "print(\"\\n\")\n",
    "print(\"FNR China test: \", FNR_china_test)\n",
    "print(\"FNR Others test: \",FNR_others_test)\n",
    "print(\"Student from other countries have 37.5% higher probability to be wrongly predicted to have bad time management.\")\n",
    "print(\"\\n\")\n",
    "print(\"FPR China train: \", FPR_china_train)\n",
    "print(\"FPR Others train: \", FPR_others_train)\n",
    "print(\"Student from China have a 10% higher probability to be predicted to be good at time management when they are not.\")\n",
    "print(\"\\n\")\n",
    "print(\"FPR China test: \", FPR_china_test)\n",
    "print(\"FPR Others test: \",FPR_others_test)\n",
    "print(\"Student from other countries are 29.5% more likely to be predicted to be good at time management when they are not.\")"
   ]
  },
  {
   "cell_type": "code",
   "execution_count": 39,
   "metadata": {},
   "outputs": [
    {
     "name": "stdout",
     "output_type": "stream",
     "text": [
      "FNR Males train:  0.25\n",
      "FNR Females train:  0.0\n",
      "Male students have 20% higher probability than female student to be falsely predicted with bad time management.\n",
      "\n",
      "\n",
      "FNR Males test:  0.2222222222222222\n",
      "FNR Females test:  0.3333333333333333\n",
      "There is no difference between male and female students.\n",
      "\n",
      "\n",
      "FPR Males train:  0.7692307692307693\n",
      "FPR Females train:  0.5555555555555556\n",
      "Male students have 38% higher probability than female student to be falsely predicted with good time management.\n",
      "\n",
      "\n",
      "FPR Males test:  1.0\n",
      "FPR Females test:  0.6\n",
      "Female students have 4% higher probability than male student to be falsely predicted with good time management.\n"
     ]
    }
   ],
   "source": [
    "# SELECT ROWS IN TRAIN DATASET\n",
    "train_data_m = train_data.loc[train_data[\"Gender\"] == \"M\"]\n",
    "train_data_f = train_data.loc[train_data[\"Gender\"] == \"F\"]\n",
    "\n",
    "# CALCULATE FNR FOR TRAIN DATASET\n",
    "FNR_male_train = FalseNeg(train_data_m)\n",
    "FNR_female_train = FalseNeg(train_data_f)\n",
    "\n",
    "# CALCULATE FPR FOR TRAIN DATASET\n",
    "FPR_male_train = FalsePos(train_data_m)\n",
    "FPR_female_train = FalsePos(train_data_f)\n",
    "\n",
    "# SELECT ROWS IN TEST DATASET\n",
    "test_data_m = test_data.loc[test_data[\"Gender\"] == \"M\"]\n",
    "test_data_f = test_data.loc[test_data[\"Gender\"] == \"F\"]\n",
    "\n",
    "# CACULATE FNR FOR TEST DATASET\n",
    "FNR_male_test = FalseNeg(test_data_m)\n",
    "FNR_female_test = FalseNeg(test_data_f)\n",
    "\n",
    "# CACULATE FPR FOR TEST DATASET\n",
    "FPR_male_test = FalsePos(test_data_m)\n",
    "FPR_female_test = FalsePos(test_data_f)\n",
    "\n",
    "\n",
    "print(\"FNR Males train: \", FNR_male_train)\n",
    "print(\"FNR Females train: \", FNR_female_train)\n",
    "print(\"Male students have 20% higher probability than female student to be falsely predicted with bad time management.\")\n",
    "print(\"\\n\")\n",
    "print(\"FNR Males test: \", FNR_male_test)\n",
    "print(\"FNR Females test: \", FNR_female_test)\n",
    "print(\"There is no difference between male and female students.\")\n",
    "print(\"\\n\")\n",
    "print(\"FPR Males train: \", FPR_male_train)\n",
    "print(\"FPR Females train: \", FPR_female_train)\n",
    "print(\"Male students have 38% higher probability than female student to be falsely predicted with good time management.\")\n",
    "print(\"\\n\")\n",
    "print(\"FPR Males test: \", FPR_male_test)\n",
    "print(\"FPR Females test: \", FPR_female_test)\n",
    "print(\"Female students have 4% higher probability than male student to be falsely predicted with good time management.\")"
   ]
  },
  {
   "cell_type": "code",
   "execution_count": 40,
   "metadata": {},
   "outputs": [
    {
     "name": "stdout",
     "output_type": "stream",
     "text": [
      "FNR Old/Young train:  0.0\n",
      "FNR 20s train:  0.1111111111111111\n",
      "Age groups above/below 20-30, are 10% less likely to be falsely predicted to have bad time management.\n",
      "\n",
      "\n",
      "FNR Old/Young test:  nan\n",
      "FNR 20s test:  0.29411764705882354\n",
      "Age groups above/below 20-30, are 50% less likely to be falsely predicted to have bad time management.\n",
      "\n",
      "\n",
      "FPR Old/Young train:  0.75\n",
      "FPR 20s train:  0.6538461538461539\n",
      "Age groups between 20-30, are 1% less likely to be falsely predicted to have good time management.\n",
      "\n",
      "\n",
      "FPR Old/Young test:  nan\n",
      "FPR 20s test:  0.6666666666666666\n",
      "Age groups between 20-30, are 22% more likely to be falsely predicted to have good time management.\n"
     ]
    },
    {
     "name": "stderr",
     "output_type": "stream",
     "text": [
      "<ipython-input-40-9c422b0388f8>:19: RuntimeWarning: invalid value encountered in longlong_scalars\n",
      "  FNR_test_other = test_data_other[\"FN\"].sum() / (test_data_other[\"FN\"].sum() + test_data_other[\"TP\"].sum())\n",
      "<ipython-input-40-9c422b0388f8>:23: RuntimeWarning: invalid value encountered in longlong_scalars\n",
      "  FPR_test_other = test_data_other[\"FP\"].sum() / (test_data_other[\"FP\"].sum() + test_data_other[\"TN\"].sum())\n"
     ]
    }
   ],
   "source": [
    "# SELECT ROWS IN TRAIN DATASET\n",
    "train_data_20s = train_data.loc[(train_data[\"Age\"] == \"18-20\") | (train_data[\"Age\"] == \"21-25\") | (train_data[\"Age\"] == \"26-30\")]\n",
    "train_data_other = train_data.loc[(train_data[\"Age\"] == \"<18\") | (train_data[\"Age\"] == \"31-25\") | (train_data[\"Age\"] == \">36\")]\n",
    "\n",
    "# CALCULATE FNR FOR TRAIN DATASET\n",
    "FNR_train_other = train_data_other[\"FN\"].sum() / (train_data_other[\"FN\"].sum() + train_data_other[\"TP\"].sum())\n",
    "FNR_train_20s = train_data_20s[\"FN\"].sum() / (train_data_20s[\"FN\"].sum() + train_data_20s[\"TP\"].sum())\n",
    "\n",
    "# CALCULATE FPR FOR TRAIN DATASET\n",
    "FPR_train_other = train_data_other[\"FP\"].sum() / (train_data_other[\"FP\"].sum() + train_data_other[\"TN\"].sum())\n",
    "FPR_train_20s = train_data_20s[\"FP\"].sum() / (train_data_20s[\"FP\"].sum() + train_data_20s[\"TN\"].sum())\n",
    "\n",
    "\n",
    "# SELECT ROWS IN TEST DATASET\n",
    "test_data_other = test_data.loc[(test_data[\"Age\"] == \"<18\") | (test_data[\"Age\"] == \"31-25\") | (test_data[\"Age\"] == \">36\")]\n",
    "test_data_20s = test_data.loc[(test_data[\"Age\"] == \"18-20\") | (test_data[\"Age\"] == \"21-25\") | (test_data[\"Age\"] == \"26-30\")]\n",
    "\n",
    "# CALCULATE FNR FOR TEST DATASET\n",
    "FNR_test_other = test_data_other[\"FN\"].sum() / (test_data_other[\"FN\"].sum() + test_data_other[\"TP\"].sum())\n",
    "FNR_test_20s = test_data_20s[\"FN\"].sum() / (test_data_20s[\"FN\"].sum() + test_data_20s[\"TP\"].sum())\n",
    "\n",
    "# CALCULATE FPR FOR TEST DATASET\n",
    "FPR_test_other = test_data_other[\"FP\"].sum() / (test_data_other[\"FP\"].sum() + test_data_other[\"TN\"].sum())\n",
    "FPR_test_20s = test_data_20s[\"FP\"].sum() / (test_data_20s[\"FP\"].sum() + test_data_20s[\"TN\"].sum())\n",
    "\n",
    "\n",
    "print(\"FNR Old/Young train: \", FNR_train_other)\n",
    "print(\"FNR 20s train: \", FNR_train_20s)\n",
    "print(\"Age groups above/below 20-30, are 10% less likely to be falsely predicted to have bad time management.\")\n",
    "print(\"\\n\")\n",
    "print(\"FNR Old/Young test: \", FNR_test_other)\n",
    "print(\"FNR 20s test: \", FNR_test_20s)\n",
    "print(\"Age groups above/below 20-30, are 50% less likely to be falsely predicted to have bad time management.\")\n",
    "print(\"\\n\")\n",
    "print(\"FPR Old/Young train: \", FPR_train_other)\n",
    "print(\"FPR 20s train: \", FPR_train_20s)\n",
    "print(\"Age groups between 20-30, are 1% less likely to be falsely predicted to have good time management.\")\n",
    "print(\"\\n\")\n",
    "print(\"FPR Old/Young test: \", FPR_test_other)\n",
    "print(\"FPR 20s test: \", FPR_test_20s)\n",
    "print(\"Age groups between 20-30, are 22% more likely to be falsely predicted to have good time management.\")\n",
    "\n",
    "# runtime error because null division"
   ]
  },
  {
   "cell_type": "code",
   "execution_count": null,
   "metadata": {},
   "outputs": [],
   "source": []
  },
  {
   "cell_type": "code",
   "execution_count": null,
   "metadata": {},
   "outputs": [],
   "source": []
  }
 ],
 "metadata": {
  "kernelspec": {
   "display_name": "Python 3",
   "language": "python",
   "name": "python3"
  },
  "language_info": {
   "codemirror_mode": {
    "name": "ipython",
    "version": 3
   },
   "file_extension": ".py",
   "mimetype": "text/x-python",
   "name": "python",
   "nbconvert_exporter": "python",
   "pygments_lexer": "ipython3",
   "version": "3.8.5"
  }
 },
 "nbformat": 4,
 "nbformat_minor": 5
}
