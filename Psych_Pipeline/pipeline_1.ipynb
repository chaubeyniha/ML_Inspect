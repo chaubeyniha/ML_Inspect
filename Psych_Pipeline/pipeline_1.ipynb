{
 "cells": [
  {
   "cell_type": "code",
   "execution_count": 123,
   "metadata": {
    "scrolled": false
   },
   "outputs": [],
   "source": [
    "import pandas as pd\n",
    "import numpy as np\n",
    "from sklearn.preprocessing import OneHotEncoder, OrdinalEncoder, LabelEncoder\n",
    "from sklearn.impute import SimpleImputer\n",
    "from sklearn.pipeline import Pipeline\n",
    "from sklearn.compose import ColumnTransformer\n",
    "from sklearn.model_selection import train_test_split\n",
    "from sklearn.linear_model import LogisticRegression\n",
    "from sklearn.metrics import confusion_matrix\n",
    "\n",
    "# read the data\n",
    "raw_data = pd.read_csv(\"International students Time management data.csv\")\n",
    "\n",
    "# transform y - variable \n",
    "raw_data = raw_data.fillna(raw_data.mode().iloc[0])\n",
    "y_column = raw_data[['7','10', '11', '12', '14', '17']]\n",
    "raw_data['avg_response'] = y_column.mode(axis = 1)[0]\n",
    "# raw_data = raw_data[raw_data['avg_response'] != 'Neither'] \n",
    "raw_data['label'] = (raw_data['avg_response'] == 'Agree') | (raw_data['avg_response'] == 'Strong Agree')\n"
   ]
  },
  {
   "cell_type": "code",
   "execution_count": 124,
   "metadata": {},
   "outputs": [
    {
     "name": "stdout",
     "output_type": "stream",
     "text": [
      "Train score: 0.6236559139784946\n",
      "Test score: 0.6875\n"
     ]
    }
   ],
   "source": [
    "# Building blocks for pipeline\n",
    "impute_and_one_hot = Pipeline([\n",
    "    ('impute', SimpleImputer(strategy= 'most_frequent')),\n",
    "    ('encode', OneHotEncoder(sparse=False, handle_unknown='ignore'))\n",
    "])\n",
    "\n",
    "impute_and_ordinal = Pipeline([\n",
    "    ('impute', SimpleImputer(strategy= 'most_frequent')),\n",
    "    ('ordinal', OrdinalEncoder())\n",
    "])\n",
    "\n",
    "categorical_prepr = ColumnTransformer([\n",
    "    (\"impute_and_one_hot\", impute_and_one_hot, ['Course']),\n",
    "    (\"impute_and_ordinal\", impute_and_ordinal, ['Academic', 'Attendance'])\n",
    "])\n",
    "\n",
    "# create pipeline model\n",
    "pipe = Pipeline([\n",
    "    ('features', categorical_prepr),\n",
    "    ('classifier', LogisticRegression())\n",
    "])\n",
    "\n",
    "X_train, X_test, Y_train, Y_test = train_test_split(raw_data, raw_data['label'], random_state = 1)\n",
    "\n",
    "# fit the pipeline to the training data\n",
    "pipe.fit(X_train, Y_train)\n",
    "\n",
    "# predict target values on training data\n",
    "pred_train = pipe.predict(X_train)\n",
    "\n",
    "# validate with X\n",
    "pred_test = pipe.predict(X_test)\n",
    "score = pipe.score(X_test, Y_test)\n",
    "print(\"Train score:\", pipe.score(X_train, Y_train))\n",
    "print(\"Test score:\", score)"
   ]
  },
  {
   "cell_type": "code",
   "execution_count": 125,
   "metadata": {},
   "outputs": [],
   "source": [
    "train_data = pd.concat([X_train.reset_index(), pd.Series(pred_train, name=\"pred\")], axis=1)\n",
    "\n",
    "train_data['TP']df.plot(x=df['a'], y=df['b'], label=df['c'])  = (train_data['label'] == True) & (train_data['pred'] == True)\n",
    "train_data['TN'] = (train_data['label'] == False) & (train_data['pred'] == False)\n",
    "train_data['FN'] = (train_data['label'] == True) & (train_data['pred'] == False)\n",
    "train_data['FP'] = (train_data['label'] == False) & (train_data['pred'] == True)"
   ]
  },
  {
   "cell_type": "code",
   "execution_count": null,
   "metadata": {},
   "outputs": [],
   "source": [
    "train_data.plot(x=df['a'], y=df['b'], label=df['c']) "
   ]
  },
  {
   "cell_type": "code",
   "execution_count": 127,
   "metadata": {},
   "outputs": [
    {
     "name": "stdout",
     "output_type": "stream",
     "text": [
      "[[45  8]\n",
      " [27 13]]\n"
     ]
    }
   ],
   "source": [
    "actual = train_data['label']\n",
    "predicted = train_data['pred']\n",
    "\n",
    "conf_mat = confusion_matrix(actual, predicted) \n",
    "\n",
    "print(conf_mat)"
   ]
  },
  {
   "cell_type": "code",
   "execution_count": 128,
   "metadata": {},
   "outputs": [
    {
     "data": {
      "text/plain": [
       "(93, 29)"
      ]
     },
     "metadata": {},
     "output_type": "display_data"
    }
   ],
   "source": [
    "display(train_data.shape)"
   ]
  },
  {
   "cell_type": "code",
   "execution_count": 129,
   "metadata": {},
   "outputs": [],
   "source": [
    "test_data = pd.concat([X_test.reset_index(), pd.Series(pred_test, name=\"pred\")], axis=1)\n",
    "\n",
    "test_data['TP'] = (test_data['label'] == True) & (test_data['pred'] == True)\n",
    "test_data['TN'] = (test_data['label'] == False) & (test_data['pred'] == False)\n",
    "test_data['FN'] = (test_data['label'] == True) & (test_data['pred'] == False)\n",
    "test_data['FP'] = (test_data['label'] == False) & (test_data['pred'] == True)\n"
   ]
  },
  {
   "cell_type": "code",
   "execution_count": 130,
   "metadata": {},
   "outputs": [
    {
     "name": "stdout",
     "output_type": "stream",
     "text": [
      "[[16  4]\n",
      " [ 6  6]]\n"
     ]
    }
   ],
   "source": [
    "actual = test_data['label']\n",
    "predicted = test_data['pred']\n",
    "\n",
    "conf_mat = confusion_matrix(actual, predicted) \n",
    "\n",
    "print(conf_mat)"
   ]
  },
  {
   "cell_type": "code",
   "execution_count": 131,
   "metadata": {},
   "outputs": [
    {
     "data": {
      "text/plain": [
       "(32, 29)"
      ]
     },
     "metadata": {},
     "output_type": "display_data"
    }
   ],
   "source": [
    "display(test_data.shape)"
   ]
  },
  {
   "cell_type": "code",
   "execution_count": 133,
   "metadata": {},
   "outputs": [],
   "source": [
    "# False Negative: FN/FN+TP\n",
    "## The probability that a true positive will be missed by the test\n",
    "## FN is the number of false negatives \n",
    "## TP is the number of true positives (FN+TP being the total number of positives).\n",
    "\n",
    "# False Positive: FP/FP+TN\n",
    "## FP is the number of false positives\n",
    "## TN is the number of true negatives (FP+TN being the total number of negatives)\n",
    "## It's the probability that a positive result will be given when the true value is negative"
   ]
  },
  {
   "cell_type": "code",
   "execution_count": 135,
   "metadata": {},
   "outputs": [
    {
     "name": "stdout",
     "output_type": "stream",
     "text": [
      "FNR China train:  0.6923076923076923\n",
      "FNR Others train:  0.6428571428571429\n",
      "Student from China have a 5% higher chance to be falsely predicted to have bad time management\n",
      "\n",
      "\n",
      "FNR China test:  0.375\n",
      "FNR Others test:  0.75\n",
      "Student from other countries have 37.5% higher probability to be wrongly predicted to have bad time management.\n",
      "\n",
      "\n",
      "FPR China train:  0.1935483870967742\n",
      "FPR Others train:  0.09090909090909091\n",
      "Student from China have a 10% higher probability to be predicted to be good at time management when they are not.\n",
      "\n",
      "\n",
      "FPR China test:  0.08333333333333333\n",
      "FPR Others test:  0.375\n",
      "Student from other countries are 29.5% more likely to be predicted to be good at time management when they are not.\n"
     ]
    }
   ],
   "source": [
    "# SELECT ROWS IN TRAIN DATASET\n",
    "train_data_china = train_data.loc[train_data[\"Nationality\"] == \"China\"]\n",
    "train_data_others = train_data.loc[train_data[\"Nationality\"] != \"China\"]\n",
    "\n",
    "# CALCULATE FNR FOR TRAIN DATASET\n",
    "FNR_china_train = train_data_china[\"FN\"].sum() / (train_data_china[\"FN\"].sum() + train_data_china[\"TP\"].sum())\n",
    "FNR_others_train = train_data_others[\"FN\"].sum() / (train_data_others[\"FN\"].sum() + train_data_others[\"TP\"].sum())\n",
    "\n",
    "# CALCULATE FPR FOR TRAIN DATASET\n",
    "FPR_china_train = train_data_china[\"FP\"].sum() / (train_data_china[\"FP\"].sum() + train_data_china[\"TN\"].sum())\n",
    "FPR_others_train = train_data_others[\"FP\"].sum() / (train_data_others[\"FP\"].sum() + train_data_others[\"TN\"].sum())\n",
    "\n",
    "# SELECT ROWS IN TEST DATASET\n",
    "test_data_china = test_data.loc[test_data[\"Nationality\"] == \"China\"]\n",
    "test_data_others = test_data.loc[test_data[\"Nationality\"] != \"China\"]\n",
    "\n",
    "# CALCULATE FNR FOR TEST DATASET\n",
    "FNR_china_test = test_data_china[\"FN\"].sum() / (test_data_china[\"FN\"].sum() + test_data_china[\"TP\"].sum())\n",
    "FNR_others_test = test_data_others[\"FN\"].sum() / (test_data_others[\"FN\"].sum() + test_data_others[\"TP\"].sum())\n",
    "\n",
    "# CALCULATE FPR FOR TEST DATASER\n",
    "FPR_china_test = test_data_china[\"FP\"].sum() / (test_data_china[\"FP\"].sum() + test_data_china[\"TN\"].sum())\n",
    "FPR_others_test = test_data_others[\"FP\"].sum() / (test_data_others[\"FP\"].sum() + test_data_others[\"TN\"].sum())\n",
    "\n",
    "print(\"FNR China train: \", FNR_china_train)\n",
    "print(\"FNR Others train: \", FNR_others_train)\n",
    "print(\"Student from China have a 5% higher chance to be falsely predicted to have bad time management\")\n",
    "print(\"\\n\")\n",
    "print(\"FNR China test: \", FNR_china_test)\n",
    "print(\"FNR Others test: \",FNR_others_test)\n",
    "print(\"Student from other countries have 37.5% higher probability to be wrongly predicted to have bad time management.\")\n",
    "print(\"\\n\")\n",
    "print(\"FPR China train: \", FPR_china_train)\n",
    "print(\"FPR Others train: \", FPR_others_train)\n",
    "print(\"Student from China have a 10% higher probability to be predicted to be good at time management when they are not.\")\n",
    "print(\"\\n\")\n",
    "print(\"FPR China test: \", FPR_china_test)\n",
    "print(\"FPR Others test: \",FPR_others_test)\n",
    "print(\"Student from other countries are 29.5% more likely to be predicted to be good at time management when they are not.\")"
   ]
  },
  {
   "cell_type": "code",
   "execution_count": 136,
   "metadata": {},
   "outputs": [
    {
     "name": "stdout",
     "output_type": "stream",
     "text": [
      "FNR Males train:  0.7727272727272727\n",
      "FNR Females train:  0.5555555555555556\n",
      "Male students have 20% higher probability than female student to be falsely predicted with bad time management.\n",
      "\n",
      "\n",
      "FNR Males test:  1.0\n",
      "FNR Females test:  0.4\n",
      "There is no difference between male and female students.\n",
      "\n",
      "\n",
      "FPR Males train:  0.15384615384615385\n",
      "FPR Females train:  0.14814814814814814\n",
      "Male students have 38% higher probability than female student to be falsely predicted with good time management.\n",
      "\n",
      "\n",
      "FPR Males test:  0.25\n",
      "FPR Females test:  0.125\n",
      "Female students have 4% higher probability than male student to be falsely predicted with good time management.\n"
     ]
    }
   ],
   "source": [
    "# SELECT ROWS IN TRAIN DATASET\n",
    "train_data_m = train_data.loc[train_data[\"Gender\"] == \"M\"]\n",
    "train_data_f = train_data.loc[train_data[\"Gender\"] == \"F\"]\n",
    "\n",
    "# CALCULATE FNR FOR TRAIN DATASET\n",
    "FNR_male_train = train_data_m[\"FN\"].sum() / (train_data_m[\"FN\"].sum() + train_data_m[\"TP\"].sum())\n",
    "FNR_female_train = train_data_f[\"FN\"].sum() / (train_data_f[\"FN\"].sum() + train_data_f[\"TP\"].sum())\n",
    "\n",
    "# CALCULATE FPR FOR TRAIN DATASET\n",
    "FPR_male_train = train_data_m[\"FP\"].sum() / (train_data_m[\"FP\"].sum() + train_data_m[\"TN\"].sum())\n",
    "FPR_female_train = train_data_f[\"FP\"].sum() / (train_data_f[\"FP\"].sum() + train_data_f[\"TN\"].sum())\n",
    "\n",
    "# SELECT ROWS IN TEST DATASET\n",
    "test_data_m = test_data.loc[test_data[\"Gender\"] == \"M\"]\n",
    "test_data_f = test_data.loc[test_data[\"Gender\"] == \"F\"]\n",
    "\n",
    "# CACULATE FNR FOR TEST DATASET\n",
    "FNR_male_test = test_data_m[\"FN\"].sum() / (test_data_m[\"FN\"].sum() + test_data_m[\"TP\"].sum())\n",
    "FNR_female_test = test_data_f[\"FN\"].sum() / (test_data_f[\"FN\"].sum() + test_data_f[\"TP\"].sum())\n",
    "\n",
    "# CACULATE FPR FOR TEST DATASET\n",
    "FPR_male_test = test_data_m[\"FP\"].sum() / (test_data_m[\"FP\"].sum() + test_data_m[\"TN\"].sum())\n",
    "FPR_female_test = test_data_f[\"FP\"].sum() / (test_data_f[\"FP\"].sum() + test_data_f[\"TN\"].sum())\n",
    "\n",
    "print(\"FNR Males train: \", FNR_male_train)\n",
    "print(\"FNR Females train: \", FNR_female_train)\n",
    "print(\"Male students have 20% higher probability than female student to be falsely predicted with bad time management.\")\n",
    "print(\"\\n\")\n",
    "print(\"FNR Males test: \", FNR_male_test)\n",
    "print(\"FNR Females test: \", FNR_female_test)\n",
    "print(\"There is no difference between male and female students.\")\n",
    "print(\"\\n\")\n",
    "print(\"FPR Males train: \", FPR_male_train)\n",
    "print(\"FPR Females train: \", FPR_female_train)\n",
    "print(\"Male students have 38% higher probability than female student to be falsely predicted with good time management.\")\n",
    "print(\"\\n\")\n",
    "print(\"FPR Males test: \", FPR_male_test)\n",
    "print(\"FPR Females test: \", FPR_female_test)\n",
    "print(\"Female students have 4% higher probability than male student to be falsely predicted with good time management.\")"
   ]
  },
  {
   "cell_type": "code",
   "execution_count": 138,
   "metadata": {},
   "outputs": [
    {
     "name": "stdout",
     "output_type": "stream",
     "text": [
      "FNR Old/Young train:  0.5\n",
      "FNR 20s train:  0.6571428571428571\n",
      "Age groups above/below 20-30, are 10% less likely to be falsely predicted to have bad time management.\n",
      "\n",
      "\n",
      "FNR Old/Young test:  nan\n",
      "FNR 20s test:  0.5\n",
      "Age groups above/below 20-30, are 50% less likely to be falsely predicted to have bad time management.\n",
      "\n",
      "\n",
      "FPR Old/Young train:  0.16666666666666666\n",
      "FPR 20s train:  0.15555555555555556\n",
      "Age groups between 20-30, are 1% less likely to be falsely predicted to have good time management.\n",
      "\n",
      "\n",
      "FPR Old/Young test:  0.0\n",
      "FPR 20s test:  0.2222222222222222\n",
      "Age groups between 20-30, are 22% more likely to be falsely predicted to have good time management.\n"
     ]
    },
    {
     "name": "stderr",
     "output_type": "stream",
     "text": [
      "<ipython-input-138-9c422b0388f8>:19: RuntimeWarning: invalid value encountered in longlong_scalars\n",
      "  FNR_test_other = test_data_other[\"FN\"].sum() / (test_data_other[\"FN\"].sum() + test_data_other[\"TP\"].sum())\n"
     ]
    }
   ],
   "source": [
    "# SELECT ROWS IN TRAIN DATASET\n",
    "train_data_20s = train_data.loc[(train_data[\"Age\"] == \"18-20\") | (train_data[\"Age\"] == \"21-25\") | (train_data[\"Age\"] == \"26-30\")]\n",
    "train_data_other = train_data.loc[(train_data[\"Age\"] == \"<18\") | (train_data[\"Age\"] == \"31-25\") | (train_data[\"Age\"] == \">36\")]\n",
    "\n",
    "# CALCULATE FNR FOR TRAIN DATASET\n",
    "FNR_train_other = train_data_other[\"FN\"].sum() / (train_data_other[\"FN\"].sum() + train_data_other[\"TP\"].sum())\n",
    "FNR_train_20s = train_data_20s[\"FN\"].sum() / (train_data_20s[\"FN\"].sum() + train_data_20s[\"TP\"].sum())\n",
    "\n",
    "# CALCULATE FPR FOR TRAIN DATASET\n",
    "FPR_train_other = train_data_other[\"FP\"].sum() / (train_data_other[\"FP\"].sum() + train_data_other[\"TN\"].sum())\n",
    "FPR_train_20s = train_data_20s[\"FP\"].sum() / (train_data_20s[\"FP\"].sum() + train_data_20s[\"TN\"].sum())\n",
    "\n",
    "\n",
    "# SELECT ROWS IN TEST DATASET\n",
    "test_data_other = test_data.loc[(test_data[\"Age\"] == \"<18\") | (test_data[\"Age\"] == \"31-25\") | (test_data[\"Age\"] == \">36\")]\n",
    "test_data_20s = test_data.loc[(test_data[\"Age\"] == \"18-20\") | (test_data[\"Age\"] == \"21-25\") | (test_data[\"Age\"] == \"26-30\")]\n",
    "\n",
    "# CALCULATE FNR FOR TEST DATASET\n",
    "FNR_test_other = test_data_other[\"FN\"].sum() / (test_data_other[\"FN\"].sum() + test_data_other[\"TP\"].sum())\n",
    "FNR_test_20s = test_data_20s[\"FN\"].sum() / (test_data_20s[\"FN\"].sum() + test_data_20s[\"TP\"].sum())\n",
    "\n",
    "# CALCULATE FPR FOR TEST DATASET\n",
    "FPR_test_other = test_data_other[\"FP\"].sum() / (test_data_other[\"FP\"].sum() + test_data_other[\"TN\"].sum())\n",
    "FPR_test_20s = test_data_20s[\"FP\"].sum() / (test_data_20s[\"FP\"].sum() + test_data_20s[\"TN\"].sum())\n",
    "\n",
    "\n",
    "print(\"FNR Old/Young train: \", FNR_train_other)\n",
    "print(\"FNR 20s train: \", FNR_train_20s)\n",
    "print(\"Age groups above/below 20-30, are 10% less likely to be falsely predicted to have bad time management.\")\n",
    "print(\"\\n\")\n",
    "print(\"FNR Old/Young test: \", FNR_test_other)\n",
    "print(\"FNR 20s test: \", FNR_test_20s)\n",
    "print(\"Age groups above/below 20-30, are 50% less likely to be falsely predicted to have bad time management.\")\n",
    "print(\"\\n\")\n",
    "print(\"FPR Old/Young train: \", FPR_train_other)\n",
    "print(\"FPR 20s train: \", FPR_train_20s)\n",
    "print(\"Age groups between 20-30, are 1% less likely to be falsely predicted to have good time management.\")\n",
    "print(\"\\n\")\n",
    "print(\"FPR Old/Young test: \", FPR_test_other)\n",
    "print(\"FPR 20s test: \", FPR_test_20s)\n",
    "print(\"Age groups between 20-30, are 22% more likely to be falsely predicted to have good time management.\")\n",
    "\n",
    "# runtime error because null division"
   ]
  }
 ],
 "metadata": {
  "kernelspec": {
   "display_name": "Python 3",
   "language": "python",
   "name": "python3"
  },
  "language_info": {
   "codemirror_mode": {
    "name": "ipython",
    "version": 3
   },
   "file_extension": ".py",
   "mimetype": "text/x-python",
   "name": "python",
   "nbconvert_exporter": "python",
   "pygments_lexer": "ipython3",
   "version": "3.8.5"
  }
 },
 "nbformat": 4,
 "nbformat_minor": 5
}
