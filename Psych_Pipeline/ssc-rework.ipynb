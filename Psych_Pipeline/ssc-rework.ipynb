{
 "cells": [
  {
   "cell_type": "code",
   "execution_count": 118,
   "id": "92686dec",
   "metadata": {},
   "outputs": [],
   "source": [
    "import pandas as pd\n",
    "import numpy as np\n",
    "from sklearn.preprocessing import OneHotEncoder, OrdinalEncoder, StandardScaler, label_binarize\n",
    "from sklearn.impute import SimpleImputer\n",
    "from sklearn.pipeline import Pipeline\n",
    "from sklearn.compose import ColumnTransformer\n",
    "from sklearn.model_selection import train_test_split, GridSearchCV, StratifiedKFold\n",
    "from sklearn.linear_model import SGDClassifier\n",
    "from sklearn.metrics import confusion_matrix\n",
    "\n",
    "# random seed for reproducibility\n",
    "seed = 123456789\n",
    "np.random.seed(seed)\n",
    "\n",
    "raw_data = pd.read_csv(\"International students Time management data.csv\")\n",
    "\n",
    "#Question 6: You often feel that your life is aimless, with no definite purpose\n",
    "target_column = '6'\n",
    "raw_data = raw_data[raw_data[target_column] != 'Neither']\n",
    "raw_data = raw_data[raw_data[target_column].notna()]\n",
    "raw_data[target_column] = raw_data[target_column].replace('Strong Agree', 'Agree')\n",
    "raw_data[target_column] = raw_data[target_column].replace('Strong Disagree', 'Disagree')"
   ]
  },
  {
   "cell_type": "code",
   "execution_count": 119,
   "id": "b1c3019a",
   "metadata": {},
   "outputs": [],
   "source": [
    "impute_and_one_hot = Pipeline([\n",
    "    ('impute', SimpleImputer(strategy= 'most_frequent')),\n",
    "    ('encode', OneHotEncoder(handle_unknown='ignore'))\n",
    "])\n",
    "\n",
    "answers = ['Strong Disagree', 'Disagree', 'Neither', 'Agree', 'Strong Agree']\n",
    "percentages = ['<40%', '40%~49%', '50%~59%', '60%~70%','>70%']\n",
    "\n",
    "impute_and_ordinal = Pipeline([\n",
    "    ('impute', SimpleImputer(strategy='most_frequent')),\n",
    "    ('ordinal', OrdinalEncoder(categories=[percentages,\n",
    "                                           ['S4', 'S3', 'S2', 'S1', 'S0'], \n",
    "                                           percentages,\n",
    "                                           ['<18', '18-20', '21-25', '26-30', '31-35', '>36'],\n",
    "                                           answers, answers, answers, answers])),\n",
    "    ('scaler', StandardScaler())\n",
    "])\n",
    "\n",
    "feature_encoding = ColumnTransformer([\n",
    "    (\"impute_and_one_hot\", impute_and_one_hot, ['Course']),\n",
    "    (\"impute_and_ordinal\", impute_and_ordinal, ['Academic', 'Attendance', 'English', 'Age',  \n",
    "                                                '8', '12', '14', '15'])\n",
    "])\n",
    "\n",
    "pipeline = Pipeline([\n",
    "    ('features', feature_encoding),\n",
    "    ('sgdclassifier', SGDClassifier(loss='log'))\n",
    "])"
   ]
  },
  {
   "cell_type": "code",
   "execution_count": 120,
   "id": "eeb10104",
   "metadata": {},
   "outputs": [],
   "source": [
    "hyperparam_grid = {\n",
    "    \"sgdclassifier__alpha\" : [0.01, 0.03, 0.1, 0.3],\n",
    "    \"sgdclassifier__penalty\" : [\"l2\", \"l1\", \"elasticnet\"],\n",
    "    \"sgdclassifier__eta0\": [0.01, 0.03, 0.1, 0.3]\n",
    "}\n",
    "\n",
    "grid_search = GridSearchCV(pipeline, param_grid=hyperparam_grid, cv=3)"
   ]
  },
  {
   "cell_type": "code",
   "execution_count": 125,
   "id": "0b2e546d",
   "metadata": {},
   "outputs": [],
   "source": [
    "X_train, X_test, y_train_raw, y_test_raw = \\\n",
    "  train_test_split(raw_data, raw_data[target_column], test_size=.3, random_state=seed)\n",
    "\n",
    "y_train = np.squeeze(label_binarize(y_train_raw, classes=['Agree', 'Disagree']))\n",
    "y_test = np.squeeze(label_binarize(y_test_raw, classes=['Agree', 'Disagree']))\n",
    "\n",
    "model = grid_search.fit(X_train, y_train)"
   ]
  },
  {
   "cell_type": "code",
   "execution_count": 126,
   "id": "3c6a59cb",
   "metadata": {},
   "outputs": [
    {
     "data": {
      "text/plain": [
       "0.7931034482758621"
      ]
     },
     "execution_count": 126,
     "metadata": {},
     "output_type": "execute_result"
    }
   ],
   "source": [
    "model.score(X_test, y_test)"
   ]
  },
  {
   "cell_type": "code",
   "execution_count": 127,
   "id": "b47489ae",
   "metadata": {},
   "outputs": [
    {
     "data": {
      "text/plain": [
       "array([[ 4,  3],\n",
       "       [ 3, 19]])"
      ]
     },
     "execution_count": 127,
     "metadata": {},
     "output_type": "execute_result"
    }
   ],
   "source": [
    "confusion_matrix(y_test, model.predict(X_test))"
   ]
  },
  {
   "cell_type": "code",
   "execution_count": null,
   "id": "209d1fa8",
   "metadata": {},
   "outputs": [],
   "source": []
  }
 ],
 "metadata": {
  "kernelspec": {
   "display_name": "Python 3 (ipykernel)",
   "language": "python",
   "name": "python3"
  },
  "language_info": {
   "codemirror_mode": {
    "name": "ipython",
    "version": 3
   },
   "file_extension": ".py",
   "mimetype": "text/x-python",
   "name": "python",
   "nbconvert_exporter": "python",
   "pygments_lexer": "ipython3",
   "version": "3.9.6"
  }
 },
 "nbformat": 4,
 "nbformat_minor": 5
}
