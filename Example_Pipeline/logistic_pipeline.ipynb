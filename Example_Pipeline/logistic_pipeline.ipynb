{
 "cells": [
  {
   "cell_type": "code",
   "execution_count": 2,
   "metadata": {},
   "outputs": [],
   "source": [
    "import pandas as pd\n",
    "import numpy as np\n",
    "from sklearn.preprocessing import OneHotEncoder, OrdinalEncoder, StandardScaler, label_binarize\n",
    "from sklearn.impute import SimpleImputer\n",
    "from sklearn.pipeline import Pipeline\n",
    "from sklearn.compose import ColumnTransformer\n",
    "from sklearn.model_selection import train_test_split, GridSearchCV, StratifiedKFold\n",
    "from sklearn.linear_model import SGDClassifier\n",
    "from sklearn.metrics import confusion_matrix\n",
    "\n",
    "# random seed for reproducibility\n",
    "seed = 123456789\n",
    "np.random.seed(seed)\n",
    "\n",
    "raw_data = pd.read_csv(\"International students Time management data.csv\")\n",
    "\n",
    "# Question 6: You often feel that your life is aimless, with no definite purpose\n",
    "target_column = '6'\n",
    "raw_data = raw_data[raw_data[target_column] != 'Neither']\n",
    "raw_data = raw_data[raw_data[target_column].notna()]\n",
    "raw_data[target_column] = raw_data[target_column].replace('Strong Agree', 'Agree')\n",
    "raw_data[target_column] = raw_data[target_column].replace('Strong Disagree', 'Disagree')\n",
    "\n",
    "raw_data['label'] = (raw_data[target_column] == 'Agree')"
   ]
  },
  {
   "cell_type": "code",
   "execution_count": 3,
   "metadata": {},
   "outputs": [],
   "source": [
    "impute_and_one_hot = Pipeline([\n",
    "    ('impute', SimpleImputer(strategy= 'most_frequent')),\n",
    "    ('encode', OneHotEncoder(handle_unknown='ignore'))\n",
    "])\n",
    "\n",
    "feature_encoding = ColumnTransformer([\n",
    "    (\"impute_and_one_hot\", impute_and_one_hot, ['Course', 'Academic', 'Attendance', 'English', 'Age',  \n",
    "                                                '8', '12', '14', '15'])\n",
    "])\n",
    "\n",
    "pipeline = Pipeline([\n",
    "    ('features', feature_encoding),\n",
    "    ('sgdclassifier', SGDClassifier(loss='log'))\n",
    "])"
   ]
  },
  {
   "cell_type": "code",
   "execution_count": 4,
   "metadata": {},
   "outputs": [],
   "source": [
    "hyperparam_grid = {\n",
    "    \"sgdclassifier__alpha\" : [0.01, 0.03, 0.1, 0.3],\n",
    "    \"sgdclassifier__penalty\" : [\"l2\", \"l1\", \"elasticnet\"],\n",
    "    \"sgdclassifier__eta0\": [0.01, 0.03, 0.1, 0.3]\n",
    "}\n",
    "\n",
    "grid_search = GridSearchCV(pipeline, param_grid=hyperparam_grid, cv=3)"
   ]
  },
  {
   "cell_type": "code",
   "execution_count": 5,
   "metadata": {},
   "outputs": [],
   "source": [
    "X_train, X_test, y_train_raw, y_test_raw = \\\n",
    "  train_test_split(raw_data, raw_data[target_column], test_size=.3, random_state=seed)\n",
    "\n",
    "y_train = np.squeeze(label_binarize(y_train_raw, classes=['Agree', 'Disagree']))\n",
    "y_test = np.squeeze(label_binarize(y_test_raw, classes=['Agree', 'Disagree']))\n",
    "\n",
    "model = grid_search.fit(X_train, y_train)"
   ]
  },
  {
   "cell_type": "code",
   "execution_count": 6,
   "metadata": {},
   "outputs": [],
   "source": [
    "pred_train = model.predict(X_train)\n",
    "pred_test = model.predict(X_test)"
   ]
  },
  {
   "cell_type": "code",
   "execution_count": 7,
   "metadata": {},
   "outputs": [],
   "source": [
    "train_data = pd.concat([X_train.reset_index(), pd.Series(pred_train, name=\"pred\")], axis=1)\n",
    " \n",
    "train_data['TP'] = (train_data['label'] == True) & (train_data['pred'] == True)\n",
    "train_data['TN'] = (train_data['label'] == False) & (train_data['pred'] == False)\n",
    "train_data['FN'] = (train_data['label'] == True) & (train_data['pred'] == False)\n",
    "train_data['FP'] = (train_data['label'] == False) & (train_data['pred'] == True)"
   ]
  },
  {
   "cell_type": "code",
   "execution_count": 8,
   "metadata": {},
   "outputs": [],
   "source": [
    "test_data = pd.concat([X_test.reset_index(), pd.Series(pred_test, name=\"pred\")], axis=1)\n",
    "\n",
    "test_data['TP'] = (test_data['label'] == True) & (test_data['pred'] == True)\n",
    "test_data['TN'] = (test_data['label'] == False) & (test_data['pred'] == False)\n",
    "test_data['FN'] = (test_data['label'] == True) & (test_data['pred'] == False)\n",
    "test_data['FP'] = (test_data['label'] == False) & (test_data['pred'] == True)"
   ]
  },
  {
   "cell_type": "code",
   "execution_count": 9,
   "metadata": {},
   "outputs": [],
   "source": [
    "def FalseNeg(data):\n",
    "    FNR = data[\"FN\"].sum() / (data[\"FN\"].sum() + data[\"TP\"].sum())\n",
    "    return FNR\n",
    "\n",
    "def FalsePos(data):\n",
    "    FPR = data[\"FP\"].sum() / (data[\"FP\"].sum() + data[\"TN\"].sum())\n",
    "    return FPR"
   ]
  },
  {
   "cell_type": "code",
   "execution_count": 12,
   "metadata": {},
   "outputs": [
    {
     "name": "stdout",
     "output_type": "stream",
     "text": [
      "FNR China train:  0.55\n",
      "FNR Others train:  0.4\n",
      "Student from China have 15% higher probability to be wrongly predicted to have bad time management.\n",
      "\n",
      "\n",
      "FNR China test:  0.3333333333333333\n",
      "FNR Others test:  0.25\n",
      "Student from China have 8% higher probability to be wrongly predicted to have bad time management.\n",
      "\n",
      "\n",
      "FPR China train:  0.92\n",
      "FPR Others train:  0.8235294117647058\n",
      "Student from China have a 10% higher probability to be predicted to be good at time management when they are not.\n",
      "\n",
      "\n",
      "FPR China test:  0.8461538461538461\n",
      "FPR Others test:  1.0\n",
      "Student from other countries are 16% more likely to be predicted to be good at time management when they are not.\n"
     ]
    }
   ],
   "source": [
    "## TRAIN DATASET\n",
    "train_data_china = train_data.loc[train_data[\"Nationality\"] == \"China\"]\n",
    "train_data_others = train_data.loc[train_data[\"Nationality\"] != \"China\"]\n",
    "\n",
    "# CALCULATE FNR FOR TRAIN DATASET\n",
    "FNR_china_train = FalseNeg(train_data_china)\n",
    "FNR_others_train = FalseNeg(train_data_others)\n",
    "\n",
    "# CALCULATE FPR FOR TRAIN DATASET\n",
    "FPR_china_train = FalsePos(train_data_china)\n",
    "FPR_others_train = FalsePos(train_data_others)\n",
    "\n",
    "## TEST DATASET\n",
    "test_data_china = test_data.loc[test_data[\"Nationality\"] == \"China\"]\n",
    "test_data_others = test_data.loc[test_data[\"Nationality\"] != \"China\"]\n",
    "\n",
    "# CALCULATE FNR FOR TEST DATASET\n",
    "FNR_china_test =  FalseNeg(test_data_china)\n",
    "FNR_others_test =  FalseNeg(test_data_others)\n",
    "\n",
    "# CALCULATE FPR FOR TEST DATASER\n",
    "FPR_china_test = FalsePos(test_data_china)\n",
    "FPR_others_test = FalsePos(test_data_others)\n",
    "\n",
    "print(\"FNR China train: \", FNR_china_train)\n",
    "print(\"FNR Others train: \", FNR_others_train)\n",
    "print(\"Student from China have 15% higher probability to be wrongly predicted to have bad time management.\")\n",
    "print(\"\\n\")\n",
    "print(\"FNR China test: \", FNR_china_test)\n",
    "print(\"FNR Others test: \",FNR_others_test)\n",
    "print(\"Student from China have 8% higher probability to be wrongly predicted to have bad time management.\")\n",
    "print(\"\\n\")\n",
    "print(\"FPR China train: \", FPR_china_train)\n",
    "print(\"FPR Others train: \", FPR_others_train)\n",
    "print(\"Student from China have a 10% higher probability to be predicted to be good at time management when they are not.\")\n",
    "print(\"\\n\")\n",
    "print(\"FPR China test: \", FPR_china_test)\n",
    "print(\"FPR Others test: \",FPR_others_test)\n",
    "print(\"Student from other countries are 16% more likely to be predicted to be good at time management when they are not.\")"
   ]
  },
  {
   "cell_type": "code",
   "execution_count": 13,
   "metadata": {},
   "outputs": [
    {
     "name": "stdout",
     "output_type": "stream",
     "text": [
      "FNR Males train:  0.42857142857142855\n",
      "FNR Females train:  0.6363636363636364\n",
      "Female students have 21% higher probability than male student to be falsely predicted with bad time management.\n",
      "\n",
      "\n",
      "FNR Males test:  0.3333333333333333\n",
      "FNR Females test:  0.0\n",
      "Male students have 33% higher probability than female student to be falsely predicted with bad time management.\n",
      "\n",
      "\n",
      "FPR Males train:  0.8571428571428571\n",
      "FPR Females train:  0.8928571428571429\n",
      "Female students have 4% higher probability than male student to be falsely predicted with good time management.\n",
      "\n",
      "\n",
      "FPR Males test:  0.8461538461538461\n",
      "FPR Females test:  1.0\n",
      "Female students have 16% higher probability than male student to be falsely predicted with good time management.\n"
     ]
    }
   ],
   "source": [
    "## TRAIN DATASET\n",
    "train_data_m = train_data.loc[train_data[\"Gender\"] == \"M\"]\n",
    "train_data_f = train_data.loc[train_data[\"Gender\"] == \"F\"]\n",
    "\n",
    "# CALCULATE FNR FOR TRAIN DATASET\n",
    "FNR_male_train = FalseNeg(train_data_m)\n",
    "FNR_female_train = FalseNeg(train_data_f)\n",
    "\n",
    "# CALCULATE FPR FOR TRAIN DATASET\n",
    "FPR_male_train = FalsePos(train_data_m)\n",
    "FPR_female_train = FalsePos(train_data_f)\n",
    "\n",
    "## TEST DATASET\n",
    "test_data_m = test_data.loc[test_data[\"Gender\"] == \"M\"]\n",
    "test_data_f = test_data.loc[test_data[\"Gender\"] == \"F\"]\n",
    "\n",
    "# CACULATE FNR FOR TEST DATASET\n",
    "FNR_male_test = FalseNeg(test_data_m)\n",
    "FNR_female_test = FalseNeg(test_data_f)\n",
    "\n",
    "# CACULATE FPR FOR TEST DATASET\n",
    "FPR_male_test = FalsePos(test_data_m)\n",
    "FPR_female_test = FalsePos(test_data_f)\n",
    "\n",
    "\n",
    "print(\"FNR Males train: \", FNR_male_train)\n",
    "print(\"FNR Females train: \", FNR_female_train)\n",
    "print(\"Female students have 21% higher probability than male student to be falsely predicted with bad time management.\")\n",
    "print(\"\\n\")\n",
    "print(\"FNR Males test: \", FNR_male_test)\n",
    "print(\"FNR Females test: \", FNR_female_test)\n",
    "print(\"Male students have 33% higher probability than female student to be falsely predicted with bad time management.\")\n",
    "print(\"\\n\")\n",
    "print(\"FPR Males train: \", FPR_male_train)\n",
    "print(\"FPR Females train: \", FPR_female_train)\n",
    "print(\"Female students have 4% higher probability than male student to be falsely predicted with good time management.\")\n",
    "print(\"\\n\")\n",
    "print(\"FPR Males test: \", FPR_male_test)\n",
    "print(\"FPR Females test: \", FPR_female_test)\n",
    "print(\"Female students have 16% higher probability than male student to be falsely predicted with good time management.\")"
   ]
  }
 ],
 "metadata": {
  "kernelspec": {
   "display_name": "Python 3",
   "language": "python",
   "name": "python3"
  },
  "language_info": {
   "codemirror_mode": {
    "name": "ipython",
    "version": 3
   },
   "file_extension": ".py",
   "mimetype": "text/x-python",
   "name": "python",
   "nbconvert_exporter": "python",
   "pygments_lexer": "ipython3",
   "version": "3.8.5"
  }
 },
 "nbformat": 4,
 "nbformat_minor": 5
}
